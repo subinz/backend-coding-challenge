{
 "cells": [
  {
   "cell_type": "code",
   "execution_count": 1,
   "id": "154081a2",
   "metadata": {},
   "outputs": [
    {
     "name": "stdout",
     "output_type": "stream",
     "text": [
      "Table is Ready\n"
     ]
    }
   ],
   "source": [
    "import sqlite3\n",
    " \n",
    "connection_obj = sqlite3.connect('planner.db')\n",
    "cursor_obj = connection_obj.cursor()\n",
    "cursor_obj.execute(\"DROP TABLE IF EXISTS planner\")\n",
    " \n",
    "table = \"\"\" CREATE TABLE Planner (\n",
    "            ID INTEGER PRIMARY KEY,\n",
    "            Original_ID TEXT UNIQUE NOT NULL,\n",
    "            Talent_ID TEXT,\n",
    "            Talent_Name TEXT,\n",
    "            Talent_Grade TEXT,\n",
    "            Booking_Grade TEXT,\n",
    "            Operating_Unit TEXT NOT NULL,\n",
    "            Office_City TEXT,\n",
    "            Office_Postal_Code TEXT NOT NULL,\n",
    "            Job_Manager_Name TEXT,\n",
    "            Job_Manager_ID TEXT,\n",
    "            Total_Hours REAL NOT NULL,\n",
    "            Start_Date TEXT NOT NULL,\n",
    "            End_Date TEXT NOT NULL,\n",
    "            Client_Name TEXT,\n",
    "            Client_ID TEXT NOT NULL,\n",
    "            Industry TEXT,\n",
    "            Required_Skills TEXT,\n",
    "            Optional_Skills TEXT,\n",
    "            Is_Unassigned INTEGER\n",
    "        ); \"\"\"\n",
    " \n",
    "cursor_obj.execute(table)\n",
    " \n",
    "print(\"Table is Ready\")\n",
    " \n",
    "connection_obj.close()"
   ]
  },
  {
   "cell_type": "code",
   "execution_count": 2,
   "id": "44167a4e",
   "metadata": {},
   "outputs": [
    {
     "data": {
      "text/plain": [
       "(('ID', None, None, None, None, None, None),\n",
       " ('Original_ID', None, None, None, None, None, None),\n",
       " ('Talent_ID', None, None, None, None, None, None),\n",
       " ('Talent_Name', None, None, None, None, None, None),\n",
       " ('Talent_Grade', None, None, None, None, None, None),\n",
       " ('Booking_Grade', None, None, None, None, None, None),\n",
       " ('Operating_Unit', None, None, None, None, None, None),\n",
       " ('Office_City', None, None, None, None, None, None),\n",
       " ('Office_Postal_Code', None, None, None, None, None, None),\n",
       " ('Job_Manager_Name', None, None, None, None, None, None),\n",
       " ('Job_Manager_ID', None, None, None, None, None, None),\n",
       " ('Total_Hours', None, None, None, None, None, None),\n",
       " ('Start_Date', None, None, None, None, None, None),\n",
       " ('End_Date', None, None, None, None, None, None),\n",
       " ('Client_Name', None, None, None, None, None, None),\n",
       " ('Client_ID', None, None, None, None, None, None),\n",
       " ('Industry', None, None, None, None, None, None),\n",
       " ('Required_Skills', None, None, None, None, None, None),\n",
       " ('Optional_Skills', None, None, None, None, None, None),\n",
       " ('Is_Unassigned', None, None, None, None, None, None))"
      ]
     },
     "execution_count": 2,
     "metadata": {},
     "output_type": "execute_result"
    }
   ],
   "source": [
    "import sqlite3\n",
    "conn = sqlite3.connect('planner.db')\n",
    "cursor = conn.execute('select * from planner')\n",
    "cursor.description"
   ]
  },
  {
   "cell_type": "code",
   "execution_count": 3,
   "id": "064a90f2",
   "metadata": {},
   "outputs": [
    {
     "name": "stdout",
     "output_type": "stream",
     "text": [
      "Record Added\n"
     ]
    }
   ],
   "source": [
    "import sqlite3\n",
    "import json\n",
    "\n",
    "conn = sqlite3.connect('planner.db')\n",
    "\n",
    "cursor = conn.cursor()\n",
    "\n",
    "f = open('planning.json')\n",
    "\n",
    "data = json.load(f)\n",
    "\n",
    "for i in data:\n",
    "\n",
    "    list1 = list(i.values())\n",
    "    list1[-1] = json.dumps(list1[-1])\n",
    "    list1[-2] = json.dumps(list1[-2])\n",
    "\n",
    "    cursor.execute(\"\"\"INSERT INTO PLANNER(\n",
    "           \"ID\", \"Original_ID\", \"Talent_ID\", \"Talent_Name\", \"Talent_Grade\", \"Booking_Grade\", \"Operating_Unit\", \"Office_City\", \"Office_Postal_Code\", \"Job_Manager_Name\", \"Job_Manager_ID\", \"Total_Hours\", \"Start_Date\", \"End_Date\", \"Client_Name\", \"Client_ID\", \"Industry\", \"Is_Unassigned\", \"Required_Skills\", \"Optional_Skills\") \n",
    "           VALUES (?, ?, ?, ?, ?, ?, ?, ?, ?, ?, ?, ?, ?, ?, ?, ?, ?, ?, ?, ?)\"\"\", list1)\n",
    "    \n",
    "conn.commit()\n",
    "print(\"Record Added\")\n",
    "\n",
    "conn.close()"
   ]
  },
  {
   "cell_type": "code",
   "execution_count": null,
   "id": "a9575d50",
   "metadata": {},
   "outputs": [
    {
     "name": "stdout",
     "output_type": "stream",
     "text": [
      " * Serving Flask app \"__main__\" (lazy loading)\n",
      " * Environment: production\n",
      "\u001b[31m   WARNING: This is a development server. Do not use it in a production deployment.\u001b[0m\n",
      "\u001b[2m   Use a production WSGI server instead.\u001b[0m\n",
      " * Debug mode: off\n"
     ]
    },
    {
     "name": "stderr",
     "output_type": "stream",
     "text": [
      " * Running on http://127.0.0.1:5000/ (Press CTRL+C to quit)\n",
      "127.0.0.1 - - [31/Jan/2023 17:41:22] \"GET /planner HTTP/1.1\" 200 -\n",
      "127.0.0.1 - - [31/Jan/2023 17:41:23] \"GET /planner HTTP/1.1\" 200 -\n"
     ]
    }
   ],
   "source": [
    "from flask import Flask\n",
    "import sqlite3\n",
    "from tabulate import tabulate\n",
    "\n",
    "app = Flask(__name__)\n",
    "\n",
    "@app.route(\"/planner\", methods=[\"GET\"])\n",
    "def get_planner():\n",
    "    conn = sqlite3.connect(\"planner.db\")\n",
    "    cursor = conn.cursor()\n",
    "    cursor.execute(\"SELECT * FROM PLANNER\")\n",
    "    planner = cursor.fetchall()\n",
    "    headers = [\"ID\", \"Original_ID\", \"Talent_ID\", \"Talent_Name\", \"Talent_Grade\", \"Booking_Grade\", \"Operating_Unit\", \"Office_City\", \"Office_Postal_Code\", \"Job_Manager_Name\", \"Job_Manager_ID\", \"Total_Hours\", \"Start_Date\", \"End_Date\", \"Client_Name\", \"Client_ID\", \"Industry\", \"Required_Skills\", \"Optional_Skills\", \"Is_Unassigned\"]\n",
    "    return tabulate(planner[:100], headers, tablefmt='html')\n",
    "\n",
    "if __name__ == \"__main__\":\n",
    "    app.run()"
   ]
  },
  {
   "cell_type": "code",
   "execution_count": null,
   "id": "f222fdd4",
   "metadata": {},
   "outputs": [],
   "source": []
  }
 ],
 "metadata": {
  "kernelspec": {
   "display_name": "Python 3 (ipykernel)",
   "language": "python",
   "name": "python3"
  },
  "language_info": {
   "codemirror_mode": {
    "name": "ipython",
    "version": 3
   },
   "file_extension": ".py",
   "mimetype": "text/x-python",
   "name": "python",
   "nbconvert_exporter": "python",
   "pygments_lexer": "ipython3",
   "version": "3.9.7"
  }
 },
 "nbformat": 4,
 "nbformat_minor": 5
}
