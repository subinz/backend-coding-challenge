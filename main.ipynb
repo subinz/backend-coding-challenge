{
 "cells": [
  {
   "cell_type": "markdown",
   "id": "805373a4",
   "metadata": {},
   "source": [
    "### Database creation `planner.db`"
   ]
  },
  {
   "cell_type": "code",
   "execution_count": null,
   "id": "154081a2",
   "metadata": {},
   "outputs": [],
   "source": [
    "import sqlite3\n",
    " \n",
    "connection_obj = sqlite3.connect('planner.db')\n",
    "cursor_obj = connection_obj.cursor()\n",
    "cursor_obj.execute(\"DROP TABLE IF EXISTS planner\")\n",
    " \n",
    "table = \"\"\" CREATE TABLE Planner (\n",
    "            ID INTEGER PRIMARY KEY,\n",
    "            Original_ID TEXT UNIQUE NOT NULL,\n",
    "            Talent_ID TEXT,\n",
    "            Talent_Name TEXT,\n",
    "            Talent_Grade TEXT,\n",
    "            Booking_Grade TEXT,\n",
    "            Operating_Unit TEXT NOT NULL,\n",
    "            Office_City TEXT,\n",
    "            Office_Postal_Code TEXT NOT NULL,\n",
    "            Job_Manager_Name TEXT,\n",
    "            Job_Manager_ID TEXT,\n",
    "            Total_Hours REAL NOT NULL,\n",
    "            Start_Date TEXT NOT NULL,\n",
    "            End_Date TEXT NOT NULL,\n",
    "            Client_Name TEXT,\n",
    "            Client_ID TEXT NOT NULL,\n",
    "            Industry TEXT,\n",
    "            Required_Skills TEXT,\n",
    "            Optional_Skills TEXT,\n",
    "            Is_Unassigned INTEGER\n",
    "        ); \"\"\"\n",
    " \n",
    "cursor_obj.execute(table)\n",
    " \n",
    "print(\"Table is Ready\")\n",
    " \n",
    "connection_obj.close()"
   ]
  },
  {
   "cell_type": "markdown",
   "id": "1fa5add7",
   "metadata": {},
   "source": [
    "### Display of Database description"
   ]
  },
  {
   "cell_type": "code",
   "execution_count": null,
   "id": "44167a4e",
   "metadata": {},
   "outputs": [],
   "source": [
    "import sqlite3\n",
    "conn = sqlite3.connect('planner.db')\n",
    "cursor = conn.execute('select * from planner')\n",
    "cursor.description"
   ]
  },
  {
   "cell_type": "markdown",
   "id": "16d2b57a",
   "metadata": {},
   "source": [
    "### Database updation using `planning.json`"
   ]
  },
  {
   "cell_type": "code",
   "execution_count": null,
   "id": "064a90f2",
   "metadata": {},
   "outputs": [],
   "source": [
    "import sqlite3\n",
    "import json\n",
    "\n",
    "conn = sqlite3.connect('planner.db')\n",
    "\n",
    "cursor = conn.cursor()\n",
    "\n",
    "f = open('planning.json')\n",
    "\n",
    "data = json.load(f)\n",
    "\n",
    "for i in data:\n",
    "\n",
    "    list1 = list(i.values())\n",
    "    list1[-1] = json.dumps(list1[-1])\n",
    "    list1[-2] = json.dumps(list1[-2])\n",
    "\n",
    "    cursor.execute(\"\"\"INSERT INTO PLANNER(\n",
    "           \"ID\", \"Original_ID\", \"Talent_ID\", \"Talent_Name\", \"Talent_Grade\", \"Booking_Grade\", \"Operating_Unit\", \"Office_City\", \"Office_Postal_Code\", \"Job_Manager_Name\", \"Job_Manager_ID\", \"Total_Hours\", \"Start_Date\", \"End_Date\", \"Client_Name\", \"Client_ID\", \"Industry\", \"Is_Unassigned\", \"Required_Skills\", \"Optional_Skills\") \n",
    "           VALUES (?, ?, ?, ?, ?, ?, ?, ?, ?, ?, ?, ?, ?, ?, ?, ?, ?, ?, ?, ?)\"\"\", list1)\n",
    "    \n",
    "conn.commit()\n",
    "print(\"Record Added\")\n",
    "\n",
    "conn.close()"
   ]
  },
  {
   "cell_type": "markdown",
   "id": "be781489",
   "metadata": {},
   "source": [
    "### Creation of Dashboard"
   ]
  },
  {
   "cell_type": "code",
   "execution_count": null,
   "id": "9c0ae78a",
   "metadata": {},
   "outputs": [],
   "source": [
    "from flask import Flask, render_template\n",
    "import sqlite3\n",
    "import pandas as pd\n",
    "\n",
    "app = Flask(__name__)\n",
    "app.template_folder = 'template'\n",
    "\n",
    "@app.route(\"/\", methods=[\"GET\"])\n",
    "def test():\n",
    "    conn = sqlite3.connect(\"planner.db\")\n",
    "    cursor = conn.cursor()\n",
    "    cursor.execute(\"SELECT * FROM PLANNER\")\n",
    "    planner = cursor.fetchall()\n",
    "    df = pd.DataFrame(planner, columns=[\"ID\", \"Original ID\", \"Talent ID\", \"Talent Name\", \"Talent Grade\", \"Booking Grade\", \"Operating Unit\", \"Office City\", \"Office Postal Code\", \"Job Manager Name\", \"Job Manager ID\", \"Total Hours\", \"Start Date\", \"End Date\", \"Client Name\", \"Client ID\", \"Industry\", \"Required Skills\", \"Optional Skills\", \"Is Unassigned\"])\n",
    "\n",
    "    return render_template('index.html',\n",
    "                           users=[df.to_html(classes=['data','table table-striped table-bordered table-sm'], index=False, table_id=\"dataframe\")], \n",
    "                           titles=df.columns.values\n",
    "                           )\n",
    "\n",
    "if __name__ == \"__main__\":\n",
    "    app.run()"
   ]
  },
  {
   "cell_type": "code",
   "execution_count": null,
   "id": "1a5cbb5c",
   "metadata": {},
   "outputs": [],
   "source": []
  }
 ],
 "metadata": {
  "kernelspec": {
   "display_name": "Python 3 (ipykernel)",
   "language": "python",
   "name": "python3"
  },
  "language_info": {
   "codemirror_mode": {
    "name": "ipython",
    "version": 3
   },
   "file_extension": ".py",
   "mimetype": "text/x-python",
   "name": "python",
   "nbconvert_exporter": "python",
   "pygments_lexer": "ipython3",
   "version": "3.9.7"
  }
 },
 "nbformat": 4,
 "nbformat_minor": 5
}
